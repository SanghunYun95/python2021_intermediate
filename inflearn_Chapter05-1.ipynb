{
 "cells": [
  {
   "cell_type": "code",
   "execution_count": 5,
   "id": "novel-absorption",
   "metadata": {},
   "outputs": [
    {
     "name": "stdout",
     "output_type": "stream",
     "text": [
      "120\n",
      "<class 'function'> <class 'type'>\n",
      "{'__closure__', '__kwdefaults__', '__name__', '__globals__', '__code__', '__call__', '__qualname__', '__annotations__', '__get__', '__defaults__'}\n"
     ]
    }
   ],
   "source": [
    "# 일급 함수 (일급 객체)\n",
    "# 1. 런타임 초기화\n",
    "# 2. 변수 할당 가능\n",
    "# 3. 함수 인자 가능\n",
    "# 4. 함수 결과 반환 가능 \n",
    "\n",
    "# 함수 객체\n",
    "def factorial(n):\n",
    "    '''Factorial Function -> n : int'''\n",
    "    if n == 1:\n",
    "        return 1\n",
    "    return n * factorial(n-1)\n",
    "\n",
    "class A:\n",
    "    pass\n",
    "\n",
    "print(factorial(5))\n",
    "print(type(factorial), type(A))\n",
    "print(set(sorted(dir(factorial))) - set(sorted(dir(A)))) # 함수만 가진 특성 출력 (함수 특성 - 클래스 특성)\n"
   ]
  },
  {
   "cell_type": "code",
   "execution_count": 14,
   "id": "fabulous-priest",
   "metadata": {},
   "outputs": [
    {
     "name": "stdout",
     "output_type": "stream",
     "text": [
      "3628800\n",
      "[1, 2, 6, 24, 120, 720, 5040, 40320, 362880, 3628800]\n",
      "\n",
      "[1, 6, 120]\n",
      "[1, 6, 120]\n",
      "\n",
      "55\n",
      "55\n",
      "55\n"
     ]
    }
   ],
   "source": [
    "# 변수 할당\n",
    "var_func = factorial\n",
    "print(var_func(10))\n",
    "print(list(map(var_func, range(1,11))))\n",
    "\n",
    "print()\n",
    "# 함수 인수 전달 및 함수로 결과 반환 -> 고위 함수 (Higher-order function)\n",
    "# map, filter, reduce\n",
    "\n",
    "print(list(map(var_func, filter(lambda x:x%2, range(1,6))))) # x%2 --> x%2 = True -> 홀수만\n",
    "print([var_func(i) for i in range(1,6) if i%2]) \n",
    "\n",
    "print()\n",
    "\n",
    "# reduce\n",
    "from functools import reduce\n",
    "from operator import add\n",
    "\n",
    "print(reduce(add, range(1,11)))\n",
    "print(sum(range(1,11)))\n",
    "\n",
    "# 익명함수 (lambda)\n",
    "# 가급적 주석 작성\n",
    "# 가급적 함수 작성\n",
    "# 일반 함수 형태로 리팩토링 권장 \n",
    "# 즉, 정말 필요한 순간에만 써라\n",
    "print(reduce(lambda x,t:x+t, range(1,11)))"
   ]
  },
  {
   "cell_type": "code",
   "execution_count": 20,
   "id": "likely-proof",
   "metadata": {},
   "outputs": [
    {
     "name": "stdout",
     "output_type": "stream",
     "text": [
      "True True True True False\n",
      "100\n",
      "50\n",
      "30\n",
      "[5, 10, 15, 20, 25, 30, 35, 40, 45, 50]\n",
      "[5, 10, 15, 20, 25, 30, 35, 40, 45, 50]\n"
     ]
    }
   ],
   "source": [
    "# Callable: 호출 연산자 -> 메소드 형태로 호출 가능한지 확인\n",
    "print(callable(str), callable(A), callable(var_func), callable(factorial), callable(3.14))\n",
    "\n",
    "# partial : 인수 고정 -> 콜백 함수 사용\n",
    "from operator import mul\n",
    "from functools import partial\n",
    "\n",
    "print(mul(10,10))\n",
    "\n",
    "# 인수 고정\n",
    "five = partial(mul, 5)\n",
    "\n",
    "# 고정 추가\n",
    "six = partial(five, 6)\n",
    "\n",
    "print(five(10))\n",
    "print(six())\n",
    "print([five(i) for i in range(1,11)]) # 구구단 5단\n",
    "print(list(map(five, range(1,11))))"
   ]
  }
 ],
 "metadata": {
  "kernelspec": {
   "display_name": "Python 3",
   "language": "python",
   "name": "python3"
  },
  "language_info": {
   "codemirror_mode": {
    "name": "ipython",
    "version": 3
   },
   "file_extension": ".py",
   "mimetype": "text/x-python",
   "name": "python",
   "nbconvert_exporter": "python",
   "pygments_lexer": "ipython3",
   "version": "3.9.1"
  }
 },
 "nbformat": 4,
 "nbformat_minor": 5
}
