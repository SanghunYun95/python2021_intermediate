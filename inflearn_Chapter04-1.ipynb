{
 "cells": [
  {
   "cell_type": "code",
   "execution_count": 6,
   "id": "native-broad",
   "metadata": {},
   "outputs": [
    {
     "name": "stdout",
     "output_type": "stream",
     "text": [
      "[43, 95, 41, 40, 42, 38, 37, 36, 35, 64, 33, 41]\n",
      "[43, 95, 41, 40, 42, 38, 37, 36, 35, 64, 33, 41]\n",
      "[43, 95, 41, 42, 64, 41]\n",
      "[43, 95, 41, 42, 64, 41]\n"
     ]
    }
   ],
   "source": [
    "# Sequence\n",
    "# 컨테이너(Container: 서로 다른 자료형 [list, tuple, collections.deque])\n",
    "# 플랫(Flat: 단일 자료형 [str, bytes, bytearray, array.array, memoryview])\n",
    "# 가변형 (list, bytearray, array.array, memoryview, deque)\n",
    "# 불변형 (tuple, str, bytes)\n",
    "\n",
    "# 리스트 및 튜플 고급\n",
    "# 지능형 리스트 (Comprehending Lists)\n",
    "chars = '+_)(*&%$#@!)'\n",
    "code_list1 = []\n",
    "\n",
    "for s in chars:\n",
    "    code_list1.append(ord(s)) # convert unicode\n",
    "print(code_list1)\n",
    "\n",
    "# -->\n",
    "code_list2 = [ord(s) for s in chars] # 속도면에서 약간 우월 (큰 차이는 없음)\n",
    "print(code_list2)\n",
    "\n",
    "# Comprehending Lists + Map, Filter\n",
    "code_list3 = [ord(s) for s in chars if ord(s) > 40]\n",
    "print(code_list3)\n",
    "code_list4 = list(filter(lambda x : x > 40, map(ord, chars)))\n",
    "print(code_list4)\n"
   ]
  },
  {
   "cell_type": "code",
   "execution_count": 13,
   "id": "popular-uncle",
   "metadata": {},
   "outputs": [
    {
     "name": "stdout",
     "output_type": "stream",
     "text": [
      "<generator object <genexpr> at 0x00000239BDF3DF20>\n",
      "<class 'generator'>\n",
      "43\n",
      "-----------------------------------\n",
      "<class 'array.array'>\n",
      "[43, 95, 41, 40, 42, 38, 37, 36, 35, 64, 33, 41]\n"
     ]
    }
   ],
   "source": [
    "# Generator 생성\n",
    "# 만약 a = [1,2,3,4,5 ... 100000000]과 같은 큰 데이터를 메모리에 올리면 이 데이터에 접근 및 수정하는데 부담이 된다..\n",
    "# 이런 비효율성을 피하기 위해서 Generator를 쓴다\n",
    "# Generator는 값을 반환하고 그 위치를 기억하고 있는다.\n",
    "\n",
    "# Generator는 iterator이다. yield 구문을 이용해 한번 호출 시마다 하나의 값만 리턴하기 때문에\n",
    "# 작은 메모리를 요구한다. (메모리 유지 X)\n",
    " \n",
    "import array\n",
    "tuple_g = (ord(s) for s in chars)\n",
    "print(tuple_g)\n",
    "print(type(tuple_g))\n",
    "print(next(tuple_g))\n",
    "\n",
    "print('-' * 35)\n",
    "\n",
    "array_g = array.array('I', (ord(s) for s in chars))\n",
    "print(type(array_g))\n",
    "print(array_g.tolist())"
   ]
  },
  {
   "cell_type": "code",
   "execution_count": 17,
   "id": "searching-departure",
   "metadata": {},
   "outputs": [
    {
     "name": "stdout",
     "output_type": "stream",
     "text": [
      "<generator object <genexpr> at 0x00000239BDF3D580>\n",
      "A1\n",
      "A2\n",
      "A3\n",
      "A4\n",
      "A5\n",
      "A6\n",
      "A7\n",
      "A8\n",
      "A9\n",
      "A10\n",
      "A11\n",
      "A12\n",
      "A13\n",
      "A14\n",
      "A15\n",
      "A16\n",
      "A17\n",
      "A18\n",
      "A19\n",
      "A20\n",
      "B1\n",
      "B2\n",
      "B3\n",
      "B4\n",
      "B5\n",
      "B6\n",
      "B7\n",
      "B8\n",
      "B9\n",
      "B10\n",
      "B11\n",
      "B12\n",
      "B13\n",
      "B14\n",
      "B15\n",
      "B16\n",
      "B17\n",
      "B18\n",
      "B19\n",
      "B20\n",
      "C1\n",
      "C2\n",
      "C3\n",
      "C4\n",
      "C5\n",
      "C6\n",
      "C7\n",
      "C8\n",
      "C9\n",
      "C10\n",
      "C11\n",
      "C12\n",
      "C13\n",
      "C14\n",
      "C15\n",
      "C16\n",
      "C17\n",
      "C18\n",
      "C19\n",
      "C20\n",
      "D1\n",
      "D2\n",
      "D3\n",
      "D4\n",
      "D5\n",
      "D6\n",
      "D7\n",
      "D8\n",
      "D9\n",
      "D10\n",
      "D11\n",
      "D12\n",
      "D13\n",
      "D14\n",
      "D15\n",
      "D16\n",
      "D17\n",
      "D18\n",
      "D19\n",
      "D20\n"
     ]
    }
   ],
   "source": [
    "# 제네레이터 예제\n",
    "print(('%s' % c + str(n) for c in ['A', 'B', 'C', 'D'] for n in range(1,21)))\n",
    "for s in ('%s' % c + str(n) for c in ['A', 'B', 'C', 'D'] for n in range(1,21)):\n",
    "    print(s)\n",
    "    "
   ]
  },
  {
   "cell_type": "code",
   "execution_count": 23,
   "id": "continued-assistant",
   "metadata": {},
   "outputs": [
    {
     "name": "stdout",
     "output_type": "stream",
     "text": [
      "[['~', '~', '~'], ['~', '~', '~'], ['~', '~', '~']]\n",
      "[['~', '~', '~'], ['~', '~', '~'], ['~', '~', '~'], ['~', '~', '~']]\n",
      "[['~', 'X', '~'], ['~', '~', '~'], ['~', '~', '~']]\n",
      "[['~', 'X', '~'], ['~', 'X', '~'], ['~', 'X', '~'], ['~', 'X', '~']]\n",
      "[2447022565120, 2447023259072, 2447022570048]\n",
      "[2447022567232, 2447022567232, 2447022567232, 2447022567232]\n"
     ]
    }
   ],
   "source": [
    "# 리스트 주의\n",
    "# Shallow Copy, Deep Copy\n",
    "\n",
    "marks1 = [['~']*3 for _ in range(3)] # 사용하지 않을 변수는 _으로 명명\n",
    "marks2 = [['~']*3] * 4 \n",
    "print(marks1)\n",
    "print(marks2)\n",
    "\n",
    "# 수정\n",
    "marks1[0][1] = 'X'\n",
    "marks2[0][1] = 'X'\n",
    "\n",
    "print(marks1) # 각자의 id 값이 다르다\n",
    "print(marks2) # 복사\n",
    "\n",
    "# 증명\n",
    "print([id(i) for i in marks1])\n",
    "print([id(i) for i in marks2])"
   ]
  }
 ],
 "metadata": {
  "kernelspec": {
   "display_name": "Python 3",
   "language": "python",
   "name": "python3"
  },
  "language_info": {
   "codemirror_mode": {
    "name": "ipython",
    "version": 3
   },
   "file_extension": ".py",
   "mimetype": "text/x-python",
   "name": "python",
   "nbconvert_exporter": "python",
   "pygments_lexer": "ipython3",
   "version": "3.9.1"
  }
 },
 "nbformat": 4,
 "nbformat_minor": 5
}
