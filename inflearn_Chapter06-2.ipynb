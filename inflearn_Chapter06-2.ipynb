{
 "cells": [
  {
   "cell_type": "code",
   "execution_count": 9,
   "id": "foster-stand",
   "metadata": {},
   "outputs": [],
   "source": [
    "# 병행성 (Concurrency): 한 컴퓨터가 여러 일을 동시에 수행\n",
    "# 병렬성 (Parallelism): 여러 컴퓨터가 여러 작업을 동시에 수행\n",
    "\n",
    "# Generator Ex1\n",
    "def generator_ex1():\n",
    "    print('Start')\n",
    "    yield 'A Point'\n",
    "    print('Continue')\n",
    "    yield 'B Point'\n",
    "    print('End')\n",
    "    \n",
    "#temp = iter(generator_ex1())\n",
    "#print(temp)\n",
    "#print(next(temp))\n",
    "#print(next(temp))\n",
    "#print(next(temp))\n",
    "\n",
    "#for v in generator_ex1():\n",
    "#    print(v)"
   ]
  },
  {
   "cell_type": "code",
   "execution_count": 16,
   "id": "italian-account",
   "metadata": {},
   "outputs": [
    {
     "name": "stdout",
     "output_type": "stream",
     "text": [
      "Start\n",
      "Continue\n",
      "End\n",
      ">2  A PointA PointA Point\n",
      ">2  B PointB PointB Point\n",
      "-----------------------------------\n",
      "Start\n",
      ">3  A PointA PointA Point\n",
      "Continue\n",
      ">3  B PointB PointB Point\n",
      "End\n"
     ]
    }
   ],
   "source": [
    "# Generator Ex2\n",
    "temp2 = [x * 3 for x in generator_ex1()]\n",
    "temp3 = (x * 3 for x in generator_ex1())\n",
    "\n",
    "for i in temp2:\n",
    "    print('>2 ', i)\n",
    "    \n",
    "print ('-'* 35)\n",
    "for i in temp3:\n",
    "    print('>3 ', i)"
   ]
  },
  {
   "cell_type": "code",
   "execution_count": 31,
   "id": "binary-integral",
   "metadata": {},
   "outputs": [
    {
     "name": "stdout",
     "output_type": "stream",
     "text": [
      "1\n",
      "3.5\n",
      "6.0\n",
      "3\n",
      "4\n",
      "5\n",
      "1\n",
      "3\n",
      "6\n",
      "10\n",
      "15\n",
      "21\n",
      "28\n",
      "36\n",
      "45\n",
      "55\n",
      "['A', 'B', 'C', 'D', 'E', 1, 3, 5, 7, 9]\n",
      "[(0, 'A'), (1, 'B'), (2, 'C'), (3, 'D'), (4, 'E')]\n",
      "[('A',), ('B',), ('C',), ('D',), ('E',)]\n",
      "[('A', 'A'), ('A', 'B'), ('A', 'C'), ('A', 'D'), ('A', 'E'), ('B', 'A'), ('B', 'B'), ('B', 'C'), ('B', 'D'), ('B', 'E'), ('C', 'A'), ('C', 'B'), ('C', 'C'), ('C', 'D'), ('C', 'E'), ('D', 'A'), ('D', 'B'), ('D', 'C'), ('D', 'D'), ('D', 'E'), ('E', 'A'), ('E', 'B'), ('E', 'C'), ('E', 'D'), ('E', 'E')]\n",
      "A  :  ['A', 'A', 'A', 'A']\n",
      "B  :  ['B', 'B']\n",
      "C  :  ['C', 'C', 'C', 'C', 'C']\n",
      "D  :  ['D', 'D']\n",
      "E  :  ['E', 'E', 'E', 'E']\n"
     ]
    }
   ],
   "source": [
    "# Generator Ex3 (중요 함수)\n",
    "# count, takewhile, filterfalse, accumulate, chain, product, groupby\n",
    "\n",
    "import itertools\n",
    "\n",
    "gen1 = itertools.count(1, 2.5) # 1부터 2.5씩 무한히 증가한다\n",
    "\n",
    "print(next(gen1))\n",
    "print(next(gen1))\n",
    "print(next(gen1))\n",
    "# ... 무한\n",
    "\n",
    "\n",
    "# 조건\n",
    "gen2 = itertools.takewhile(lambda n:n<1000, itertools.count(1, 2.5))\n",
    "for v in gen2:\n",
    "    pass\n",
    "#    print(v)\n",
    "\n",
    "# 필터 반대\n",
    "gen3 = itertools.filterfalse(lambda n:n<3, [1,2,3,4,5])\n",
    "for v in gen3:\n",
    "    print(v)\n",
    "    \n",
    "# 누적합계\n",
    "gen4 = itertools.accumulate([x for x in range(1,11)])\n",
    "for v in gen4:\n",
    "    print(v)\n",
    "    \n",
    "# 연결1\n",
    "gen5 = itertools.chain('ABCDE', range(1,11,2))\n",
    "print(list(gen5))\n",
    "\n",
    "# 연결2\n",
    "gen6 = itertools.chain(enumerate('ABCDE'))\n",
    "print(list(gen6))\n",
    "\n",
    "# 개별\n",
    "gen7 = itertools.product('ABCDE')\n",
    "print(list(gen7))\n",
    "\n",
    "# 경우의 수\n",
    "gen8 = itertools.product('ABCDE', repeat=2)\n",
    "print(list(gen8))\n",
    "\n",
    "# 그룹화\n",
    "gen9 = itertools.groupby('AAAABBCCCCCDDEEEE')\n",
    "#print(list(gen9))\n",
    "for chr, group in gen9:\n",
    "    print(chr, ' : ', list(group))"
   ]
  }
 ],
 "metadata": {
  "kernelspec": {
   "display_name": "Python 3",
   "language": "python",
   "name": "python3"
  },
  "language_info": {
   "codemirror_mode": {
    "name": "ipython",
    "version": 3
   },
   "file_extension": ".py",
   "mimetype": "text/x-python",
   "name": "python",
   "nbconvert_exporter": "python",
   "pygments_lexer": "ipython3",
   "version": "3.9.1"
  }
 },
 "nbformat": 4,
 "nbformat_minor": 5
}
