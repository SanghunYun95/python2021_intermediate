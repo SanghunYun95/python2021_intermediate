{
 "cells": [
  {
   "cell_type": "code",
   "execution_count": 10,
   "id": "athletic-flight",
   "metadata": {},
   "outputs": [
    {
     "name": "stdout",
     "output_type": "stream",
     "text": [
      "465510690262297113\n",
      "\n",
      "\n",
      "{'k1': ['val1', 'val2'], 'k2': ['val3', 'val4', 'val5']}\n",
      "{'k1': ['val1', 'val2'], 'k2': ['val3', 'val4', 'val5']}\n",
      "{'k1': 'val2', 'k2': 'val5'}\n"
     ]
    }
   ],
   "source": [
    "# Hash Table\n",
    "# Key에 Value를 저장하는 구조\n",
    "# 키 값의 연산 결과에 따라 직접 접근이 가능한 구조\n",
    "# key 값을 해싱 함수 -> 해쉬 주소 -> key에 대한 value 참조\n",
    "\n",
    "# Dict 구조\n",
    "#print(__builtins__.__dict__)\n",
    "\n",
    "# Hash 값 확인\n",
    "t1 = (10,20,(30,40,50))\n",
    "t2 = (10,20,[30,40,50])\n",
    "\n",
    "print(hash(t1)) # hash값을 확인 할 수 있다는 것 : 불변\n",
    "# print(hash(t2)) # TypeError: unhashable type: 'list'\n",
    "\n",
    "print()\n",
    "print()\n",
    "\n",
    "# Dict Setdefualt\n",
    "source = (('k1', 'val1'),\n",
    "          ('k1', 'val2'),\n",
    "          ('k2', 'val3'),\n",
    "          ('k2', 'val4'),\n",
    "          ('k2', 'val5'))\n",
    "\n",
    "new_dict1 = {}\n",
    "new_dict2 = {}\n",
    "\n",
    "# No use Setdefault\n",
    "# 위 이중 Tuple을 Dictionary로 바꾸기\n",
    "for k, v in source:\n",
    "    if k in new_dict1:\n",
    "        new_dict1[k].append(v)\n",
    "    else :\n",
    "        new_dict1[k] = [v]\n",
    "        \n",
    "print(new_dict1)\n",
    "        \n",
    "\n",
    "# Use Setdefault\n",
    "for k, v in source:\n",
    "    new_dict2.setdefault(k, []).append(v)\n",
    "\n",
    "print(new_dict2)\n",
    "\n",
    "# 주의\n",
    "new_dict3 = {k: v for k, v in source} # 키가 중복되면 값을 덮어씌워 버린다\n",
    "print(new_dict3)"
   ]
  }
 ],
 "metadata": {
  "kernelspec": {
   "display_name": "Python 3",
   "language": "python",
   "name": "python3"
  },
  "language_info": {
   "codemirror_mode": {
    "name": "ipython",
    "version": 3
   },
   "file_extension": ".py",
   "mimetype": "text/x-python",
   "name": "python",
   "nbconvert_exporter": "python",
   "pygments_lexer": "ipython3",
   "version": "3.9.1"
  }
 },
 "nbformat": 4,
 "nbformat_minor": 5
}
