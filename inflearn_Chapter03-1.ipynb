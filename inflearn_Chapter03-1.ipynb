{
 "cells": [
  {
   "cell_type": "code",
   "execution_count": 3,
   "id": "comic-motor",
   "metadata": {},
   "outputs": [
    {
     "name": "stdout",
     "output_type": "stream",
     "text": [
      "<class 'int'>\n",
      "['__abs__', '__add__', '__and__', '__bool__', '__ceil__', '__class__', '__delattr__', '__dir__', '__divmod__', '__doc__', '__eq__', '__float__', '__floor__', '__floordiv__', '__format__', '__ge__', '__getattribute__', '__getnewargs__', '__gt__', '__hash__', '__index__', '__init__', '__init_subclass__', '__int__', '__invert__', '__le__', '__lshift__', '__lt__', '__mod__', '__mul__', '__ne__', '__neg__', '__new__', '__or__', '__pos__', '__pow__', '__radd__', '__rand__', '__rdivmod__', '__reduce__', '__reduce_ex__', '__repr__', '__rfloordiv__', '__rlshift__', '__rmod__', '__rmul__', '__ror__', '__round__', '__rpow__', '__rrshift__', '__rshift__', '__rsub__', '__rtruediv__', '__rxor__', '__setattr__', '__sizeof__', '__str__', '__sub__', '__subclasshook__', '__truediv__', '__trunc__', '__xor__', 'as_integer_ratio', 'bit_length', 'conjugate', 'denominator', 'from_bytes', 'imag', 'numerator', 'real', 'to_bytes']\n",
      "110\n",
      "110\n",
      "int([x]) -> integer\n",
      "int(x, base=10) -> integer\n",
      "\n",
      "Convert a number or string to an integer, or return 0 if no arguments\n",
      "are given.  If x is a number, return x.__int__().  For floating point\n",
      "numbers, this truncates towards zero.\n",
      "\n",
      "If x is not a number or if base is given, then x must be a string,\n",
      "bytes, or bytearray instance representing an integer literal in the\n",
      "given base.  The literal can be preceded by '+' or '-' and be surrounded\n",
      "by whitespace.  The base defaults to 10.  Valid bases are 0 and 2-36.\n",
      "Base 0 means to interpret the base from the string as an integer literal.\n",
      ">>> int('0b100', base=0)\n",
      "4\n"
     ]
    }
   ],
   "source": [
    "# Python Data Model\n",
    "\n",
    "# Special Method (Magic Method)\n",
    "# 파이썬의 핵심 -> 시퀀스 (Sequence), 반복 (Iterator), 함수 (Functions), 클래스 (Class)\n",
    "# 클래스안에 정의할 수 있는 특별한 Build-in 메소드 \n",
    "\n",
    "# 저수준에서 코딩을 할 수 있다\n",
    "\n",
    "print(int)\n",
    "print(dir(int))\n",
    "\n",
    "n = 10\n",
    "print(n + 100)\n",
    "print(n.__add__(100)) # +를 했을 때, 내부적으로 __add__가 호출 된다\n",
    "\n",
    "print(n.__doc__) # Class int에 대한 설명"
   ]
  },
  {
   "cell_type": "code",
   "execution_count": 13,
   "id": "white-walnut",
   "metadata": {},
   "outputs": [
    {
     "name": "stdout",
     "output_type": "stream",
     "text": [
      "Called >>  __add__\n",
      "10500\n",
      "Called >>  __sub__\n",
      "4500\n",
      "Called >>  __ge__\n",
      "True\n",
      "Called >>  __le__\n",
      "False\n"
     ]
    }
   ],
   "source": [
    "# 클래스 예제 1\n",
    "class Fruit:\n",
    "    def __init__(self, name, price):\n",
    "        self._name = name\n",
    "        self._price = price\n",
    "        \n",
    "    def __str__(self):\n",
    "        return 'Fruit Class Info : {}, {}'.format(self._name, self._price)\n",
    "    \n",
    "    def __add__(self, x):\n",
    "        print('Called >>  __add__')\n",
    "        return self._price + x._price\n",
    "    \n",
    "    def __sub__(self, x):\n",
    "        print('Called >>  __sub__')\n",
    "        return self._price - x._price\n",
    "    \n",
    "    def __le__(self, x):\n",
    "        print('Called >>  __le__')\n",
    "        if self._price <= x._price:\n",
    "            return True\n",
    "        else:\n",
    "            return False\n",
    "        \n",
    "    def __ge__(self, x):\n",
    "        print('Called >>  __ge__')\n",
    "        if self._price >= x._price:\n",
    "            return True\n",
    "        else:\n",
    "            return False\n",
    "    \n",
    "# 인스턴스 생성\n",
    "f1 = Fruit('Orange', 7500)\n",
    "f2 = Fruit('Banana', 3000)\n",
    "\n",
    "# 매직메소드를 사용하지 않은 일반 계산\n",
    "# print(f1._price + f2._price)  이렇게 직접 접근하는 것을 지양하자\n",
    "\n",
    "# 매직메소드를 통한 계산\n",
    "print(f1 + f2)\n",
    "print(f1 - f2)\n",
    "print(f1 >= f2)\n",
    "print(f1 <= f2)"
   ]
  }
 ],
 "metadata": {
  "kernelspec": {
   "display_name": "Python 3",
   "language": "python",
   "name": "python3"
  },
  "language_info": {
   "codemirror_mode": {
    "name": "ipython",
    "version": 3
   },
   "file_extension": ".py",
   "mimetype": "text/x-python",
   "name": "python",
   "nbconvert_exporter": "python",
   "pygments_lexer": "ipython3",
   "version": "3.9.1"
  }
 },
 "nbformat": 4,
 "nbformat_minor": 5
}
