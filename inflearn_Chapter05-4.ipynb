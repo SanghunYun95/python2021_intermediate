{
 "cells": [
  {
   "cell_type": "code",
   "execution_count": 6,
   "id": "involved-asian",
   "metadata": {},
   "outputs": [],
   "source": [
    "# Decorator\n",
    "# 장점: \n",
    "# 1. 중복 제거, 코드 간결, 공통함수 작성\n",
    "# 2. 로깅, 프레임워크, 유효성 체크 -> 공통 기능\n",
    "# 3. 조합해서 사용 용이\n",
    "\n",
    "# 단점:\n",
    "# 1. 가독성 감소?\n",
    "# 2. 특정 기능에 한정된 함수는 단일 함수로 작성하는 것이 유리\n",
    "# 3. 디버깅 불편\n",
    "\n",
    "import time\n",
    "\n",
    "def perf_clock(func):\n",
    "    def perf_clocked(*args):\n",
    "        # 함수 시작 시간\n",
    "        st = time.perf_counter()\n",
    "        # 함수 실행\n",
    "        result = func(*args)\n",
    "        # 함수 종료 시간\n",
    "        et = time.perf_counter() - st\n",
    "        # 실행 함수명\n",
    "        name = func.__name__\n",
    "        # 함수 매개변수\n",
    "        arg_str = ', '.join(repr(arg) for arg in args)\n",
    "        # 결과 출력\n",
    "        print('[%0.5fs] %s(%s) -> %r' % (et, name, arg_str, result))\n",
    "        return result\n",
    "    return perf_clocked"
   ]
  },
  {
   "cell_type": "code",
   "execution_count": 5,
   "id": "bored-voice",
   "metadata": {},
   "outputs": [
    {
     "name": "stdout",
     "output_type": "stream",
     "text": [
      "<function perf_clock.<locals>.perf_clocked at 0x00000267B59A85E0> ('func',)\n",
      "<function perf_clock.<locals>.perf_clocked at 0x00000267B5A72790> ('func',)\n",
      "---------------------------------------- Called None Decorator --> time_func\n",
      "\n",
      "[1.51430s] time_func(1.5) -> None\n",
      "---------------------------------------- Called None Decorator --> sum_func\n",
      "\n",
      "[0.00001s] sum_func(100, 200, 300, 400, 500) -> 1500\n"
     ]
    },
    {
     "data": {
      "text/plain": [
       "1500"
      ]
     },
     "execution_count": 5,
     "metadata": {},
     "output_type": "execute_result"
    }
   ],
   "source": [
    "# 데코레이터 미사용\n",
    "def time_func(seconds):\n",
    "    time.sleep(seconds)\n",
    "    \n",
    "def sum_func(*numbers):\n",
    "    return sum(numbers)\n",
    "\n",
    "none_deco1 = perf_clock(time_func)\n",
    "none_deco2 = perf_clock(sum_func)\n",
    "\n",
    "print(none_deco1, none_deco1.__code__.co_freevars)\n",
    "print(none_deco2, none_deco2.__code__.co_freevars)\n",
    "\n",
    "print('-' * 40, 'Called None Decorator --> time_func')\n",
    "print()\n",
    "none_deco1(1.5)\n",
    "print('-' * 40, 'Called None Decorator --> sum_func')\n",
    "print()\n",
    "none_deco2(100,200,300,400,500)"
   ]
  },
  {
   "cell_type": "code",
   "execution_count": 9,
   "id": "gothic-excess",
   "metadata": {},
   "outputs": [
    {
     "name": "stdout",
     "output_type": "stream",
     "text": [
      "---------------------------------------- Called Decorator --> time_func\n",
      "\n",
      "[1.50370s] time_func2(1.5) -> None\n",
      "---------------------------------------- Called Decorator --> sum_func\n",
      "\n",
      "[0.00001s] sum_func2(100, 200, 300, 400, 500) -> 1500\n"
     ]
    },
    {
     "data": {
      "text/plain": [
       "1500"
      ]
     },
     "execution_count": 9,
     "metadata": {},
     "output_type": "execute_result"
    }
   ],
   "source": [
    "# 데코레이터 사용\n",
    "@perf_clock\n",
    "def time_func2(seconds):\n",
    "    time.sleep(seconds)\n",
    "   \n",
    "@perf_clock\n",
    "def sum_func2(*numbers):\n",
    "    return sum(numbers)\n",
    "\n",
    "\n",
    "print('-' * 40, 'Called Decorator --> time_func')\n",
    "print()\n",
    "time_func2(1.5)\n",
    "print('-' * 40, 'Called Decorator --> sum_func')\n",
    "print()\n",
    "sum_func2(100,200,300,400,500)"
   ]
  }
 ],
 "metadata": {
  "kernelspec": {
   "display_name": "Python 3",
   "language": "python",
   "name": "python3"
  },
  "language_info": {
   "codemirror_mode": {
    "name": "ipython",
    "version": 3
   },
   "file_extension": ".py",
   "mimetype": "text/x-python",
   "name": "python",
   "nbconvert_exporter": "python",
   "pygments_lexer": "ipython3",
   "version": "3.9.1"
  }
 },
 "nbformat": 4,
 "nbformat_minor": 5
}
