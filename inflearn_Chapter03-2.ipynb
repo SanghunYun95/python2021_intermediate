{
 "cells": [
  {
   "cell_type": "code",
   "execution_count": 8,
   "id": "comic-motor",
   "metadata": {},
   "outputs": [
    {
     "name": "stdout",
     "output_type": "stream",
     "text": [
      "\n",
      "        Create a vector, example : v = Vector(5,10)\n",
      "        \n",
      "Return the vector informations\n",
      "Return the vector addition of elf and other\n",
      "-----------------------------------\n",
      "Vector(5, 7) Vector(23, 35) Vector(0, 0)\n",
      "Vector(28, 42)\n",
      "Vector(15, 21)\n",
      "True False\n"
     ]
    }
   ],
   "source": [
    "# 클래스 예제2\n",
    "class Vector(object):\n",
    "    def __init__(self, *args): # <-- (self, x, y)\n",
    "        # 메소드 주석\n",
    "        '''\n",
    "        Create a vector, example : v = Vector(5,10)\n",
    "        '''\n",
    "        \n",
    "        # 파라미터가 안들어왔을 때, 예외 처리\n",
    "        if len(args) == 0:\n",
    "            self._x, self._y = 0, 0\n",
    "        else:\n",
    "            self._x, self._y = args\n",
    "    \n",
    "    def __repr__(self):\n",
    "        '''Return the vector informations'''\n",
    "        return 'Vector(%r, %r)' % (self._x, self._y)\n",
    "\n",
    "    def __add__(self, other):\n",
    "        '''Return the vector addition of elf and other'''\n",
    "        return Vector(self._x + other._x, self._y + other._y)\n",
    "        \n",
    "    def __mul__(self, y):\n",
    "        return Vector(self._x * y, self._y * y)\n",
    "    \n",
    "    def __bool__(self):\n",
    "        return bool(max(self._x, self._y))\n",
    "    \n",
    "\n",
    "# Vector 인스턴스 생성\n",
    "v1 = Vector(5, 7)\n",
    "v2 = Vector(23, 35)\n",
    "v3 = Vector()\n",
    "\n",
    "# 매직메소드 출력\n",
    "print(Vector.__init__.__doc__)\n",
    "print(Vector.__repr__.__doc__)\n",
    "print(Vector.__add__.__doc__)\n",
    "\n",
    "print('-'*35)\n",
    "print(v1, v2, v3)\n",
    "print(v1 + v2)\n",
    "print(v1 * 3)\n",
    "print(bool(v1), bool(v3))"
   ]
  }
 ],
 "metadata": {
  "kernelspec": {
   "display_name": "Python 3",
   "language": "python",
   "name": "python3"
  },
  "language_info": {
   "codemirror_mode": {
    "name": "ipython",
    "version": 3
   },
   "file_extension": ".py",
   "mimetype": "text/x-python",
   "name": "python",
   "nbconvert_exporter": "python",
   "pygments_lexer": "ipython3",
   "version": "3.9.1"
  }
 },
 "nbformat": 4,
 "nbformat_minor": 5
}
