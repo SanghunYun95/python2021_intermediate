{
 "cells": [
  {
   "cell_type": "code",
   "execution_count": 9,
   "id": "willing-focus",
   "metadata": {},
   "outputs": [
    {
     "name": "stdout",
     "output_type": "stream",
     "text": [
      "<generator object coroutine1 at 0x000002B1C22FA510> <class 'generator'>\n",
      ">>> coroutine stated.\n"
     ]
    }
   ],
   "source": [
    "# 코루틴: 단일 (싱글) 쓰레드, 스택을 기반으로 동작하는 비동기 작업\n",
    "# 쓰레드: OS 관리, CPU 코어에서 실시간, 시분할 비동기 작업 -> 멀티 쓰레드\n",
    "# yield, send : 메인 <-> 서브\n",
    "# 코루틴 제어, 상태, 양방향 전송\n",
    "\n",
    "# 서브루틴: 메인루틴 호출 -> 서브루틴에서 수행 (흐름제어)\n",
    "# 코루틴: 루틴 실행 중 중지 -> 동시성 프로그래밍\n",
    "# 코루틴: 쓰레드에 비해 오버헤드 감소\n",
    "# 쓰레드: 싱글쓰레드 -> 멀티쓰레드 -> 복잡 -> 공유되는 자원 -> 교착상태 발생 가능성 (Dead Lock, Racing 상태)\n",
    "#         컨텍스트 스위칭 비용이 크다!\n",
    "\n",
    "# def -> async, yield -> await\n",
    "\n",
    "\n",
    "# 코루틴은 제네레이터에서 파생됐다\n",
    "# 코루틴 Ex 1\n",
    "# 서브루틴\n",
    "def coroutine1():\n",
    "    print('>>> coroutine stated.')\n",
    "    i = yield\n",
    "    print('>>> coroutine received: {}'.format(i))\n",
    "    \n",
    "# 메인 루틴 (호출하는 곳)\n",
    "# 제네레이터 선언\n",
    "cr1 = coroutine1()\n",
    "print(cr1, type(cr1))\n",
    "next(cr1)\n",
    "# next(cr1)   # 기본 전달 값 None\n",
    "# send()를 통해 서브 -> 메인으로 값을 전달한다\n",
    "# cr1.send(100)\n",
    "\n",
    "# 잘못된 사용\n",
    "cr2 = coroutine1()\n",
    "# 먼저 next()를 통해 yield까지 도달해야 한다. 바로 send()할 수 없음\n",
    "# cr2.send(100) # TypeError: can't send non-None value to a just-started generator"
   ]
  },
  {
   "cell_type": "code",
   "execution_count": 22,
   "id": "adult-bouquet",
   "metadata": {},
   "outputs": [
    {
     "name": "stdout",
     "output_type": "stream",
     "text": [
      "GEN_CREATED\n",
      ">>> coroutine stated: 10\n",
      "10\n",
      "GEN_SUSPENDED\n",
      ">>> coroutine received: 100\n",
      "GEN_SUSPENDED\n"
     ]
    }
   ],
   "source": [
    "# 코루틴 Ex 2\n",
    "# GEN_CREATED: 처음 대기 상태\n",
    "# GEN_RUNNING: 실행 상태\n",
    "# GEN_SUSPENDED: Yield 대기 상태\n",
    "# GEN_CLOSED: 실행 완료 상태\n",
    "\n",
    "def coroutine2(x):\n",
    "    print('>>> coroutine stated: {}'.format(x))\n",
    "    # 입력 받는 것 (메인루틴 -> 서브루틴) = yield 리턴값 (서브 -> 메인)\n",
    "    y = yield x\n",
    "    print('>>> coroutine received: {}'.format(y))\n",
    "    z = yield x + y\n",
    "    print('>>> coroutine received: {}'.format(z))\n",
    "    \n",
    "cr3 = coroutine2(10)\n",
    "\n",
    "from inspect import getgeneratorstate\n",
    "print(getgeneratorstate(cr3))\n",
    "print(next(cr3))\n",
    "print(getgeneratorstate(cr3))\n",
    "cr3.send(100)\n",
    "print(getgeneratorstate(cr3))\n"
   ]
  },
  {
   "cell_type": "code",
   "execution_count": 32,
   "id": "written-dispute",
   "metadata": {},
   "outputs": [
    {
     "name": "stdout",
     "output_type": "stream",
     "text": [
      "A\n",
      "B\n",
      "1\n",
      "2\n",
      "3\n",
      "\n",
      "['A', 'B', 1, 2, 3]\n",
      "\n",
      "A\n",
      "B\n",
      "1\n",
      "2\n",
      "3\n"
     ]
    }
   ],
   "source": [
    "# 코루틴 Ex 3\n",
    "# StopIteration 자동처리(v3.5 -> await)\n",
    "# 중첩 코루틴 처리\n",
    "\n",
    "def generator1():\n",
    "    for x in 'AB':\n",
    "        yield x\n",
    "    for y in range(1,4):\n",
    "        yield y\n",
    "        \n",
    "t1 = generator1()\n",
    "\n",
    "print(next(t1))\n",
    "print(next(t1))\n",
    "print(next(t1))\n",
    "print(next(t1))\n",
    "print(next(t1))\n",
    "#print(next(t1))\n",
    "\n",
    "print()\n",
    "\n",
    "t2 = generator1()\n",
    "print(list(t2))\n",
    "\n",
    "print()\n",
    "\n",
    "def generator2():\n",
    "    yield from 'AB'\n",
    "    yield from range(1,4)\n",
    "    \n",
    "t3 = generator2()\n",
    "print(next(t3))\n",
    "print(next(t3))\n",
    "print(next(t3))\n",
    "print(next(t3))\n",
    "print(next(t3))"
   ]
  }
 ],
 "metadata": {
  "kernelspec": {
   "display_name": "Python 3",
   "language": "python",
   "name": "python3"
  },
  "language_info": {
   "codemirror_mode": {
    "name": "ipython",
    "version": 3
   },
   "file_extension": ".py",
   "mimetype": "text/x-python",
   "name": "python",
   "nbconvert_exporter": "python",
   "pygments_lexer": "ipython3",
   "version": "3.9.1"
  }
 },
 "nbformat": 4,
 "nbformat_minor": 5
}
