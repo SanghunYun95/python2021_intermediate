{
 "cells": [
  {
   "cell_type": "code",
   "execution_count": 11,
   "id": "corrected-office",
   "metadata": {},
   "outputs": [
    {
     "name": "stdout",
     "output_type": "stream",
     "text": [
      "2221457486800\n",
      "2221457488720\n",
      "2221457488768\n",
      "['__class__', '__delattr__', '__dict__', '__dir__', '__doc__', '__eq__', '__format__', '__ge__', '__getattribute__', '__gt__', '__hash__', '__init__', '__init_subclass__', '__le__', '__lt__', '__module__', '__ne__', '__new__', '__reduce__', '__reduce_ex__', '__repr__', '__setattr__', '__sizeof__', '__str__', '__subclasshook__', '__weakref__', '_company', '_details', 'detail_info']\n",
      "['__class__', '__delattr__', '__dict__', '__dir__', '__doc__', '__eq__', '__format__', '__ge__', '__getattribute__', '__gt__', '__hash__', '__init__', '__init_subclass__', '__le__', '__lt__', '__module__', '__ne__', '__new__', '__reduce__', '__reduce_ex__', '__repr__', '__setattr__', '__sizeof__', '__str__', '__subclasshook__', '__weakref__', '_company', '_details', 'detail_info']\n",
      "\n",
      "    Car class\n",
      "    Author: Yun\n",
      "    Date: 2021.01.28\n",
      "    \n",
      "Current ID: 2221457486800\n",
      "Car Detail Info: Ferrari 8000\n",
      "<class '__main__.Car'> <class '__main__.Car'>\n",
      "True\n"
     ]
    }
   ],
   "source": [
    "class Car():\n",
    "    \n",
    "    \"\"\"\n",
    "    Car class\n",
    "    Author: Yun\n",
    "    Date: 2021.01.28\n",
    "    \"\"\"\n",
    "    \n",
    "    # 인스턴스 메소드의 첫번째 매개변수는 self\n",
    "    def __init__(self, company, details):\n",
    "        self._company = company\n",
    "        self._details = details\n",
    "        \n",
    "    def __str__(self):\n",
    "        return 'str: {} - {}'.format(self._company, self._details)\n",
    "    \n",
    "    def __repr__(self):\n",
    "        return 'repr: {} - {}'.format(self._company, self._details)\n",
    "    \n",
    "    def detail_info(self):\n",
    "        print('Current ID: {}'.format(id(self)))\n",
    "        print('Car Detail Info: {} {}'.format(self._company, self._details.get('price')))\n",
    "        \n",
    "car1 = Car('Ferrari', {'color': 'Red', 'horsepower': 400, 'price': 8000})\n",
    "car2 = Car('BMW', {'color': 'Silver', 'horsepower': 270, 'price': 5000})\n",
    "car3 = Car('Ferrari', {'color': 'White', 'horsepower': 300, 'price': 6000})\n",
    "\n",
    "# ID 확인\n",
    "print(id(car1))\n",
    "print(id(car2))\n",
    "print(id(car3))\n",
    "\n",
    "# dir & __dict__ 확인\n",
    "print(dir(car1))\n",
    "print(dir(car2))\n",
    "\n",
    "# Doctring\n",
    "print(Car.__doc__) # 클래스의 스펙(주석)을 보여준다\n",
    "\n",
    "car1.detail_info()\n",
    "\n",
    "print(car1.__class__, car2.__class__)\n",
    "print(id(car1.__class__) == id(car2.__class__) == id(car3.__class__))\n"
   ]
  }
 ],
 "metadata": {
  "kernelspec": {
   "display_name": "Python 3",
   "language": "python",
   "name": "python3"
  },
  "language_info": {
   "codemirror_mode": {
    "name": "ipython",
    "version": 3
   },
   "file_extension": ".py",
   "mimetype": "text/x-python",
   "name": "python",
   "nbconvert_exporter": "python",
   "pygments_lexer": "ipython3",
   "version": "3.9.1"
  }
 },
 "nbformat": 4,
 "nbformat_minor": 5
}
