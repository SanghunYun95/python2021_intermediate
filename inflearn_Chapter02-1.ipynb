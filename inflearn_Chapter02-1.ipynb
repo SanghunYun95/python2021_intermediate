{
 "cells": [
  {
   "cell_type": "code",
   "execution_count": null,
   "id": "invalid-processor",
   "metadata": {},
   "outputs": [],
   "source": [
    "# 클래스 구조\n",
    "\n",
    "class Car():\n",
    "    def __init__(self, company, details):\n",
    "        self._company = company\n",
    "        self._details = details\n",
    "        \n",
    "    # __str__과 __repr__둘다 있을 경우 default로 __str__정보를 출력한다.\n",
    "    # __str__이 없는 경우 알아서 __repr__의 정보를 출력한다.\n",
    "    # 둘다 없는 경우 class의 주소등 기본 정보를 출력한다\n",
    "    \n",
    "    # 사용자 레벨의 객체 정보\n",
    "    # def __str__(self):\n",
    "    #    return 'str: {} - {}'.format(self._company, self._details)\n",
    "        \n",
    "    # 개발자 레벨의 객체 정보 (좀 더 엄격한 정보)\n",
    "    def __repr__(self):\n",
    "        return 'repr: {} - {}'.format(self._company, self._details)\n",
    "        \n",
    "car1 = Car('Ferrari', {'color': 'Red', 'horsepower': 400, 'price': 8000})\n",
    "car2 = Car('BMW', {'color': 'Silver', 'horsepower': 270, 'price': 5000})\n",
    "car3 = Car('Ferrari', {'color': 'White', 'horsepower': 300, 'price': 6000})\n",
    "\n",
    "print(car1)\n",
    "print(car2)\n",
    "print(car3)\n",
    "\n",
    "print(car1.__dict__)\n",
    "print(car2.__dict__)\n",
    "print(car3.__dict__)\n",
    "\n",
    "\n",
    "\n",
    "car_list = []\n",
    "car_list.append(car1)\n",
    "car_list.append(car2)\n",
    "car_list.append(car3)\n",
    "\n",
    "print(car_list)\n",
    "\n",
    "print()\n",
    "print()\n",
    "\n",
    "for x in car_list\n",
    "    print(x)   # 이러면 그냥 __str__ 호출\n",
    "    print(repr(x)) # 이러면 __repr__ 호출     둘다 존재한다는 가정하에"
   ]
  }
 ],
 "metadata": {
  "kernelspec": {
   "display_name": "Python 3",
   "language": "python",
   "name": "python3"
  }
 },
 "nbformat": 4,
 "nbformat_minor": 5
}
