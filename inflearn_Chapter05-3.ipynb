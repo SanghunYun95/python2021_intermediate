{
 "cells": [
  {
   "cell_type": "code",
   "execution_count": 3,
   "id": "settled-saudi",
   "metadata": {},
   "outputs": [
    {
     "name": "stdout",
     "output_type": "stream",
     "text": [
      "inner >>> [10] / 1\n",
      "10.0\n",
      "inner >>> [10, 30] / 2\n",
      "20.0\n",
      "inner >>> [10, 30, 50] / 3\n",
      "30.0\n"
     ]
    }
   ],
   "source": [
    "# 외부에서 호출된 함수의 변수값, 상태(레퍼런스) 복사 후 저장 -> 후에 접근 가능\n",
    "\n",
    "def closure_ex1():\n",
    "    # Free variable\n",
    "    series = []\n",
    "    \n",
    "    def averager(v):\n",
    "        series.append(v)\n",
    "        print('inner >>> {} / {}'.format(series, len(series)))\n",
    "        return sum(series) / len(series)\n",
    "    return averager\n",
    "\n",
    "avg_closure1 = closure_ex1()\n",
    "\n",
    "print(avg_closure1(10))\n",
    "print(avg_closure1(30))\n",
    "print(avg_closure1(50))"
   ]
  },
  {
   "cell_type": "code",
   "execution_count": 9,
   "id": "relative-robert",
   "metadata": {},
   "outputs": [
    {
     "name": "stdout",
     "output_type": "stream",
     "text": [
      "['__annotations__', '__call__', '__class__', '__closure__', '__code__', '__defaults__', '__delattr__', '__dict__', '__dir__', '__doc__', '__eq__', '__format__', '__ge__', '__get__', '__getattribute__', '__globals__', '__gt__', '__hash__', '__init__', '__init_subclass__', '__kwdefaults__', '__le__', '__lt__', '__module__', '__name__', '__ne__', '__new__', '__qualname__', '__reduce__', '__reduce_ex__', '__repr__', '__setattr__', '__sizeof__', '__str__', '__subclasshook__']\n",
      "['__class__', '__delattr__', '__dir__', '__doc__', '__eq__', '__format__', '__ge__', '__getattribute__', '__gt__', '__hash__', '__init__', '__init_subclass__', '__le__', '__lt__', '__ne__', '__new__', '__reduce__', '__reduce_ex__', '__repr__', '__setattr__', '__sizeof__', '__str__', '__subclasshook__', 'co_argcount', 'co_cellvars', 'co_code', 'co_consts', 'co_filename', 'co_firstlineno', 'co_flags', 'co_freevars', 'co_kwonlyargcount', 'co_lnotab', 'co_name', 'co_names', 'co_nlocals', 'co_posonlyargcount', 'co_stacksize', 'co_varnames', 'replace']\n",
      "('series',)\n",
      "[10, 30, 50]\n"
     ]
    }
   ],
   "source": [
    "# function inspection\n",
    "print(dir(avg_closure1))\n",
    "print(dir(avg_closure1.__code__))\n",
    "print(avg_closure1.__code__.co_freevars)\n",
    "print(avg_closure1.__closure__[0].cell_contents)"
   ]
  },
  {
   "cell_type": "code",
   "execution_count": 13,
   "id": "laughing-parking",
   "metadata": {},
   "outputs": [],
   "source": [
    "# 잘못된 클로저 예제\n",
    "def closure_ex2():\n",
    "    # Free variable\n",
    "    cnt = 0\n",
    "    total = 0\n",
    "    \n",
    "    def averager(v):\n",
    "        cnt += 1\n",
    "        total += v\n",
    "        return total / cnt \n",
    "    return averager\n",
    "\n",
    "avg_closure2 = closure_ex2()\n",
    "#print(avg_closure2(10))"
   ]
  },
  {
   "cell_type": "code",
   "execution_count": 14,
   "id": "general-mission",
   "metadata": {},
   "outputs": [
    {
     "name": "stdout",
     "output_type": "stream",
     "text": [
      "10.0\n",
      "20.0\n",
      "30.0\n"
     ]
    }
   ],
   "source": [
    "def closure_ex3():\n",
    "    # Free variable\n",
    "    cnt = 0\n",
    "    total = 0\n",
    "    \n",
    "    def averager(v):\n",
    "        nonlocal cnt, total\n",
    "        cnt += 1\n",
    "        total += v\n",
    "        return total / cnt \n",
    "    return averager\n",
    "\n",
    "avg_closure3 = closure_ex3()\n",
    "print(avg_closure3(10))\n",
    "print(avg_closure3(30))\n",
    "print(avg_closure3(50))"
   ]
  }
 ],
 "metadata": {
  "kernelspec": {
   "display_name": "Python 3",
   "language": "python",
   "name": "python3"
  },
  "language_info": {
   "codemirror_mode": {
    "name": "ipython",
    "version": 3
   },
   "file_extension": ".py",
   "mimetype": "text/x-python",
   "name": "python",
   "nbconvert_exporter": "python",
   "pygments_lexer": "ipython3",
   "version": "3.9.1"
  }
 },
 "nbformat": 4,
 "nbformat_minor": 5
}
