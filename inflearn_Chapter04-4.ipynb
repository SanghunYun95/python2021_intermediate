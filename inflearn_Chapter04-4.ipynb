{
 "cells": [
  {
   "cell_type": "code",
   "execution_count": 6,
   "id": "distinct-discretion",
   "metadata": {},
   "outputs": [
    {
     "name": "stdout",
     "output_type": "stream",
     "text": [
      "{'key1': 'vaule1'} 2009969206400\n",
      "{'key1': 'vaule1'} 2009970153792\n",
      "{'key1': 'vaule1', 'key2': 'value2'}\n"
     ]
    }
   ],
   "source": [
    "# HashTable -> 적은 리소스로 많은 데이터를 효율적을 ㅗ관리\n",
    "# Dict - > Key 중복 허용 X,\n",
    "# Set -> 중복 허용 X\n",
    "\n",
    "#Dict 및 Set 심화\n",
    "\n",
    "# immutable Dict   읽기전용 Dictionary\n",
    "from types import MappingProxyType\n",
    "\n",
    "d = {'key1': 'vaule1'}\n",
    "\n",
    "# Read Only\n",
    "d_frozen = MappingProxyType(d)\n",
    "\n",
    "print(d, id(d)) # hash(d) 불가능\n",
    "print(d_frozen, id(d_frozen)) # 불변이라도 Dictionary 자체는 가변이기 때문에 마찬가지로 hash(d_frozen) 불가능\n",
    "\n",
    "\n",
    "# 수정 가능\n",
    "d['key2'] = 'value2'\n",
    "print(d)\n",
    "# 수정 불가능\n",
    "# d_frozen['key2'] = 'vaule2'\n",
    "# print(d_frozen) # TypeError: 'mappingproxy' object does not support item assignment\n"
   ]
  },
  {
   "cell_type": "code",
   "execution_count": 13,
   "id": "expressed-cambridge",
   "metadata": {},
   "outputs": [
    {
     "name": "stdout",
     "output_type": "stream",
     "text": [
      "{'Melon', 'Apple', 'Kiwi', 'Orange'}\n",
      "\n",
      "{'Melon', 'Apple', 'Kiwi', 'Orange'} <class 'set'>\n",
      "{'Apple', 'Kiwi', 'Orange'} <class 'set'>\n",
      "{3} <class 'set'>\n",
      "set() <class 'set'>\n",
      "frozenset({'Apple', 'Kiwi', 'Orange'}) <class 'frozenset'>\n"
     ]
    }
   ],
   "source": [
    "s1 = {'Apple', 'Orange', 'Apple', 'Orange', 'Kiwi'}\n",
    "s2 = set(['Apple', 'Orange', 'Apple', 'Orange', 'Kiwi'])\n",
    "s3 = {3}\n",
    "s4 = set() # Not {} --> Dictionary\n",
    "s5 = frozenset({'Apple', 'Orange', 'Apple', 'Orange', 'Kiwi'}) # 정말 중요한 자료라면, 중복도 없고 불변하게\n",
    "\n",
    "\n",
    "s1.add('Melon')\n",
    "print(s1)\n",
    "\n",
    "# s5.add('Melon') # AttributeError: 'frozenset' object has no attribute 'add'\n",
    "\n",
    "\n",
    "print()\n",
    "print(s1, type(s1))\n",
    "print(s2, type(s2))\n",
    "print(s3, type(s3))\n",
    "print(s4, type(s4))\n",
    "print(s5, type(s5))"
   ]
  },
  {
   "cell_type": "code",
   "execution_count": 16,
   "id": "average-throat",
   "metadata": {},
   "outputs": [
    {
     "name": "stdout",
     "output_type": "stream",
     "text": [
      "  1           0 LOAD_CONST               0 (10)\n",
      "              2 BUILD_SET                1\n",
      "              4 RETURN_VALUE\n",
      "None\n",
      "------------------\n",
      "  1           0 LOAD_NAME                0 (set)\n",
      "              2 LOAD_CONST               0 (10)\n",
      "              4 BUILD_LIST               1\n",
      "              6 CALL_FUNCTION            1\n",
      "              8 RETURN_VALUE\n",
      "None\n"
     ]
    }
   ],
   "source": [
    "# 선언 최적화\n",
    "# 바이트 코드 -> 파이썬 인터프리터 실행\n",
    "from dis import dis\n",
    "\n",
    "print(dis('{10}')) # 빠름\n",
    "print('------------------')\n",
    "print(dis('set([10])'))\n",
    "\n",
    "# set 함수를 호출하는것보다 직접 set 구현이 빠르다"
   ]
  },
  {
   "cell_type": "code",
   "execution_count": 18,
   "id": "signed-character",
   "metadata": {},
   "outputs": [
    {
     "name": "stdout",
     "output_type": "stream",
     "text": [
      "{'\\x94', '\\x97', '\\x0b', '[', 'Ï', 'Ö', '¼', '\\x86', 'ï', '\\x91', '5', '|', 'b', '¬', '>', 'G', '\\x1e', 'È', 'ö', 'ç', 'Z', 's', '\\t', '{', '\\x89', ':', '_', 'ß', '\\x98', 'V', 'm', '\\xad', '\\x01', ')', '2', '\\x1f', 'R', 'h', 'Æ', '÷', 'Ë', '×', 'æ', 'ÿ', '\\x93', 'ü', '\\x85', 'S', 'î', '³', 'Ñ', 'ä', '\\x00', '¤', 'å', '¹', '1', ';', '\\x08', '°', '\\x0e', '´', '½', '0', 'Ì', 'Â', 'I', '\\\\', '\\x11', 'K', 'n', 'õ', 'ø', 'd', '8', 'q', 'J', '·', 'v', '\\x16', 'a', '»', '\\x8e', 'Ê', 'ì', 'í', 'o', '\\x8d', 'Ü', '\\x12', '¦', 'l', '\\x03', '\\x1a', '<', '\\x8a', 'Í', '\\x1d', '£', 'º', 'Ó', '¡', '\\x19', '/', '²', 'É', '\\x18', '\\x83', '?', '©', 'Á', 'k', 'à', 'û', 'X', 'Ä', 'g', '(', 'f', '\\x9e', '\\x92', 'ù', '\\r', '\\x02', 'c', '\\x15', 'Ú', '\\x13', '\\x9d', '\\x1b', 'ñ', '\\x9b', 'Ô', 'µ', 't', '\\x0f', '\\x9c', 'ã', 'â', 'ð', 'C', '\\x17', '\\x8f', 'A', '®', '\\x9f', '!', 'e', 'Ã', '§', '±', 'À', ' ', 'Û', \"'\", '\\x8b', 'Ý', '\\n', 'Ç', 'Ø', 'H', 'ý', 'Y', '\\x81', 'þ', '\\x99', 'Q', 'z', '¾', '\\x07', 'y', '9', 'O', 'i', '`', '\\x88', '¸', 'é', 'U', 'Õ', 'á', 'ª', '\\x95', '\\x8c', '¯', 'F', '\\x84', '\\x05', '$', 'M', '\\x7f', '\\x9a', 'Ò', 'ô', '#', 'N', 'Î', 'ò', '\\x96', '*', '+', '-', '3', '«', 'D', 'L', ']', '^', '\"', 'ê', 'ó', '}', '¥', '¿', 'ú', '6', 'P', '&', '.', '\\x04', '\\x87', 'è', '\\x1c', '\\x10', 'T', '\\xa0', '\\x80', '4', 'Å', '=', '\\x14', ',', 'W', 'w', '\\x82', 'Ð', 'B', 'j', '~', '%', '7', 'x', '¢', 'ë', 'u', 'Ù', '\\x06', '@', 'p', '\\x90', '\\x0c', '¶', 'r', 'Þ', '¨', 'E'}\n",
      "{'', 'LATIN CAPITAL LETTER T', 'LOW LINE', 'LATIN CAPITAL LETTER O', 'LATIN SMALL LETTER L', 'LATIN SMALL LETTER N WITH TILDE', 'VULGAR FRACTION THREE QUARTERS', 'LATIN CAPITAL LETTER I WITH ACUTE', 'LATIN CAPITAL LETTER E', 'LATIN CAPITAL LETTER G', 'LATIN CAPITAL LETTER F', 'PILCROW SIGN', 'LATIN SMALL LETTER U WITH CIRCUMFLEX', 'LATIN SMALL LETTER U WITH DIAERESIS', 'LATIN SMALL LETTER K', 'FEMININE ORDINAL INDICATOR', 'LATIN SMALL LETTER O WITH DIAERESIS', 'LATIN CAPITAL LETTER M', 'EQUALS SIGN', 'DIGIT FIVE', 'LATIN SMALL LETTER J', 'LATIN SMALL LETTER A WITH CIRCUMFLEX', 'LEFT PARENTHESIS', 'LATIN CAPITAL LETTER D', 'SOFT HYPHEN', 'LATIN CAPITAL LETTER O WITH ACUTE', 'LATIN SMALL LETTER T', 'COPYRIGHT SIGN', 'LATIN CAPITAL LETTER L', 'LATIN CAPITAL LETTER O WITH TILDE', 'LATIN CAPITAL LETTER W', 'RIGHT-POINTING DOUBLE ANGLE QUOTATION MARK', 'DIGIT FOUR', 'SEMICOLON', 'NOT SIGN', 'LATIN SMALL LETTER W', 'DIGIT ONE', 'ACUTE ACCENT', 'LATIN SMALL LETTER O WITH STROKE', 'LATIN CAPITAL LETTER J', 'INVERTED QUESTION MARK', 'QUOTATION MARK', 'LATIN CAPITAL LETTER E WITH CIRCUMFLEX', 'SECTION SIGN', 'COMMERCIAL AT', 'RIGHT PARENTHESIS', 'REVERSE SOLIDUS', 'LATIN SMALL LETTER C', 'LATIN CAPITAL LETTER Q', 'LATIN CAPITAL LETTER H', 'DIGIT ZERO', 'NUMBER SIGN', 'LATIN SMALL LETTER I WITH GRAVE', 'LATIN SMALL LETTER R', 'LATIN SMALL LETTER U', 'GRAVE ACCENT', 'LATIN CAPITAL LETTER K', 'LESS-THAN SIGN', 'CIRCUMFLEX ACCENT', 'PERCENT SIGN', 'LATIN SMALL LETTER B', 'DIGIT TWO', 'LATIN SMALL LETTER S', 'COLON', 'LEFT-POINTING DOUBLE ANGLE QUOTATION MARK', 'LATIN CAPITAL LETTER Y WITH ACUTE', 'PLUS-MINUS SIGN', 'LATIN SMALL LETTER THORN', 'LATIN SMALL LETTER ETH', 'LATIN SMALL LETTER SHARP S', 'DIGIT SIX', 'LATIN CAPITAL LETTER N', 'FULL STOP', 'DIVISION SIGN', 'LATIN CAPITAL LETTER Z', 'LEFT SQUARE BRACKET', 'MICRO SIGN', 'MASCULINE ORDINAL INDICATOR', 'DOLLAR SIGN', 'LATIN CAPITAL LETTER I WITH DIAERESIS', 'LATIN SMALL LETTER A WITH TILDE', 'LATIN SMALL LETTER I WITH DIAERESIS', 'LATIN CAPITAL LETTER C WITH CEDILLA', 'LATIN CAPITAL LETTER ETH', 'ASTERISK', 'LATIN CAPITAL LETTER E WITH DIAERESIS', 'LATIN SMALL LETTER G', 'RIGHT CURLY BRACKET', 'CEDILLA', 'LATIN SMALL LETTER O WITH TILDE', 'LATIN CAPITAL LETTER A', 'INVERTED EXCLAMATION MARK', 'LATIN CAPITAL LETTER A WITH RING ABOVE', 'AMPERSAND', 'LATIN SMALL LETTER M', 'LATIN SMALL LETTER I WITH CIRCUMFLEX', 'LATIN SMALL LETTER Y WITH DIAERESIS', 'LATIN SMALL LETTER A WITH RING ABOVE', 'LATIN SMALL LETTER E WITH GRAVE', 'LATIN SMALL LETTER U WITH GRAVE', 'LATIN CAPITAL LETTER U', 'NO-BREAK SPACE', 'LATIN SMALL LETTER A', 'DIAERESIS', 'LATIN SMALL LETTER C WITH CEDILLA', 'MIDDLE DOT', 'SPACE', 'DEGREE SIGN', 'LATIN CAPITAL LETTER A WITH TILDE', 'HYPHEN-MINUS', 'LATIN SMALL LETTER AE', 'TILDE', 'LATIN SMALL LETTER E WITH CIRCUMFLEX', 'SOLIDUS', 'LATIN CAPITAL LETTER R', 'LATIN CAPITAL LETTER O WITH DIAERESIS', 'LATIN CAPITAL LETTER A WITH DIAERESIS', 'MACRON', 'MULTIPLICATION SIGN', 'LATIN CAPITAL LETTER S', 'LATIN SMALL LETTER A WITH DIAERESIS', 'LATIN SMALL LETTER E', 'VERTICAL LINE', 'LATIN SMALL LETTER E WITH ACUTE', 'LATIN SMALL LETTER Z', 'LATIN CAPITAL LETTER A WITH ACUTE', 'LATIN SMALL LETTER O', 'SUPERSCRIPT THREE', 'YEN SIGN', 'LEFT CURLY BRACKET', 'APOSTROPHE', 'LATIN CAPITAL LETTER A WITH GRAVE', 'LATIN SMALL LETTER O WITH GRAVE', 'LATIN SMALL LETTER V', 'LATIN SMALL LETTER N', 'REGISTERED SIGN', 'LATIN CAPITAL LETTER U WITH DIAERESIS', 'LATIN CAPITAL LETTER E WITH GRAVE', 'LATIN SMALL LETTER E WITH DIAERESIS', 'DIGIT NINE', 'LATIN CAPITAL LETTER AE', 'LATIN SMALL LETTER Y', 'LATIN SMALL LETTER O WITH ACUTE', 'LATIN CAPITAL LETTER I WITH CIRCUMFLEX', 'CENT SIGN', 'LATIN SMALL LETTER I', 'LATIN CAPITAL LETTER THORN', 'LATIN SMALL LETTER I WITH ACUTE', 'LATIN CAPITAL LETTER U WITH ACUTE', 'LATIN CAPITAL LETTER U WITH CIRCUMFLEX', 'GREATER-THAN SIGN', 'LATIN SMALL LETTER P', 'LATIN CAPITAL LETTER C', 'LATIN SMALL LETTER Q', 'SUPERSCRIPT ONE', 'VULGAR FRACTION ONE HALF', 'CURRENCY SIGN', 'LATIN SMALL LETTER X', 'EXCLAMATION MARK', 'LATIN CAPITAL LETTER A WITH CIRCUMFLEX', 'LATIN CAPITAL LETTER O WITH STROKE', 'LATIN CAPITAL LETTER I WITH GRAVE', 'BROKEN BAR', 'COMMA', 'LATIN CAPITAL LETTER U WITH GRAVE', 'LATIN CAPITAL LETTER Y', 'PLUS SIGN', 'LATIN SMALL LETTER H', 'QUESTION MARK', 'LATIN CAPITAL LETTER P', 'LATIN CAPITAL LETTER E WITH ACUTE', 'LATIN SMALL LETTER Y WITH ACUTE', 'LATIN CAPITAL LETTER B', 'LATIN CAPITAL LETTER V', 'DIGIT SEVEN', 'LATIN SMALL LETTER F', 'LATIN SMALL LETTER A WITH ACUTE', 'LATIN SMALL LETTER A WITH GRAVE', 'LATIN SMALL LETTER O WITH CIRCUMFLEX', 'LATIN SMALL LETTER U WITH ACUTE', 'DIGIT THREE', 'LATIN SMALL LETTER D', 'LATIN CAPITAL LETTER O WITH GRAVE', 'DIGIT EIGHT', 'LATIN CAPITAL LETTER O WITH CIRCUMFLEX', 'VULGAR FRACTION ONE QUARTER', 'SUPERSCRIPT TWO', 'LATIN CAPITAL LETTER I', 'LATIN CAPITAL LETTER N WITH TILDE', 'POUND SIGN', 'LATIN CAPITAL LETTER X', 'RIGHT SQUARE BRACKET'}\n"
     ]
    }
   ],
   "source": [
    "# 지능형 집합 (Comprehending List)\n",
    "print({chr(i) for i in range(0, 256)})\n",
    "\n",
    "from unicodedata import name\n",
    "print({name(chr(i), '') for i in range(0, 256)})"
   ]
  }
 ],
 "metadata": {
  "kernelspec": {
   "display_name": "Python 3",
   "language": "python",
   "name": "python3"
  },
  "language_info": {
   "codemirror_mode": {
    "name": "ipython",
    "version": 3
   },
   "file_extension": ".py",
   "mimetype": "text/x-python",
   "name": "python",
   "nbconvert_exporter": "python",
   "pygments_lexer": "ipython3",
   "version": "3.9.1"
  }
 },
 "nbformat": 4,
 "nbformat_minor": 5
}
