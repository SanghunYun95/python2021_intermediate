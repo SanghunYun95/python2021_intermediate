{
 "cells": [
  {
   "cell_type": "code",
   "execution_count": 7,
   "id": "thirty-strategy",
   "metadata": {},
   "outputs": [
    {
     "name": "stdout",
     "output_type": "stream",
     "text": [
      "(11, 1)\n",
      "(11, 1)\n",
      "11 1\n",
      "\n",
      "0 1 [2, 3, 4, 5, 6, 7, 8, 9]\n",
      "0 1 []\n"
     ]
    }
   ],
   "source": [
    "# Tuple Advanced\n",
    "# Unpacking\n",
    "\n",
    "# b,a = a,b\n",
    "print(divmod(100,9))\n",
    "print(divmod(*(100,9)))\n",
    "print(*divmod(100,9))\n",
    "\n",
    "print()\n",
    "\n",
    "x,y,*rest = range(10)\n",
    "print(x, y, rest)\n",
    "x,y, *rest = range(2)\n",
    "print(x, y, rest)"
   ]
  },
  {
   "cell_type": "code",
   "execution_count": 13,
   "id": "general-video",
   "metadata": {},
   "outputs": [
    {
     "name": "stdout",
     "output_type": "stream",
     "text": [
      "(15, 20, 25) 2840011138176\n",
      "[15, 20, 25] 2840010879232\n",
      "(15, 20, 25, 15, 20, 25) 2840011549184\n",
      "[15, 20, 25, 15, 20, 25] 2840011181312\n",
      "(15, 20, 25, 15, 20, 25, 15, 20, 25, 15, 20, 25) 2840010017520\n",
      "[15, 20, 25, 15, 20, 25, 15, 20, 25, 15, 20, 25] 2840011181312\n"
     ]
    }
   ],
   "source": [
    "# Mutable (가변) vs Immutable (불변)\n",
    "l = (15, 20, 25)\n",
    "m = [15, 20, 25]\n",
    "\n",
    "print(l, id(l))\n",
    "print(m, id(m))\n",
    "\n",
    "l = l*2\n",
    "m = m*2\n",
    "\n",
    "print(l, id(l))\n",
    "print(m, id(m))\n",
    "\n",
    "l *=2\n",
    "m *=2\n",
    "\n",
    "print(l, id(l))\n",
    "print(m, id(m))\n",
    "\n",
    "# 불변형은 계속 새로이 생성된다. id 가 바뀜\n",
    "# 가변형은 재할당된다.\n",
    "# -> 머신러닝등 많은 계산을 할 때 tuple을 사용하면 메모리에서 언제 사라질 지 장담할 수 없기 때문에\n",
    "# 계산 즉, 수정이 자주 일어나는 경우에는 list를 사용하자"
   ]
  },
  {
   "cell_type": "code",
   "execution_count": 27,
   "id": "essential-nitrogen",
   "metadata": {},
   "outputs": [
    {
     "name": "stdout",
     "output_type": "stream",
     "text": [
      "sorted :  ['apple', 'coconut', 'lemon', 'mange', 'orange', 'papaya', 'strawberry']\n",
      "reversed :  ['strawberry', 'papaya', 'orange', 'mange', 'lemon', 'coconut', 'apple']\n",
      "length :  ['apple', 'mange', 'lemon', 'orange', 'papaya', 'coconut', 'strawberry']\n",
      "end order :  ['papaya', 'orange', 'apple', 'mange', 'lemon', 'coconut', 'strawberry']\n",
      "reverse end order :  ['strawberry', 'coconut', 'lemon', 'orange', 'apple', 'mange', 'papaya']\n",
      "original :  ['orange', 'apple', 'mange', 'papaya', 'lemon', 'strawberry', 'coconut']\n",
      "----------------------------------------------------------------------------------------------------\n",
      "sort :  None ['apple', 'coconut', 'lemon', 'mange', 'orange', 'papaya', 'strawberry']\n",
      "sort :  None ['strawberry', 'papaya', 'orange', 'mange', 'lemon', 'coconut', 'apple']\n",
      "sort :  None ['mange', 'lemon', 'apple', 'papaya', 'orange', 'coconut', 'strawberry']\n",
      "sort :  None ['papaya', 'mange', 'apple', 'orange', 'lemon', 'coconut', 'strawberry']\n",
      "sort :  None ['strawberry', 'coconut', 'lemon', 'mange', 'apple', 'orange', 'papaya']\n"
     ]
    }
   ],
   "source": [
    "# sort vs sorted\n",
    "# reverse, key=len, key=str.lower, key=func ...\n",
    "\n",
    "# sorted : 정렬 후 새로운 객체 반환 (원본 유지)\n",
    "f_list = ['orange', 'apple', 'mange', 'papaya', 'lemon', 'strawberry', 'coconut']\n",
    "print('sorted : ', sorted(f_list))\n",
    "print('reversed : ', sorted(f_list, reverse=True))\n",
    "print('length : ', sorted(f_list, key=len)) # 길이값의 크기를 통한 정렬\n",
    "print('end order : ', sorted(f_list, key=lambda x:x[-1])) # 각 문자의 맨 끝 알파벳을 기준으로 정렬\n",
    "print('reverse end order : ', sorted(f_list, key=lambda x:x[-1], reverse=True))\n",
    "print('original : ', f_list)\n",
    "\n",
    "print('-' * 100)\n",
    "\n",
    "# sort : 정렬 후 원본 변경 \n",
    "#                  Return None\n",
    "print('sort : ', f_list.sort(), f_list)\n",
    "print('sort : ', f_list.sort(reverse=True), f_list)\n",
    "print('sort : ', f_list.sort(key=len), f_list)\n",
    "print('sort : ', f_list.sort(key=lambda x:x[-1]), f_list)\n",
    "print('sort : ', f_list.sort(key=lambda x:x[-1], reverse=True), f_list)"
   ]
  },
  {
   "cell_type": "code",
   "execution_count": null,
   "id": "experimental-environment",
   "metadata": {},
   "outputs": [],
   "source": [
    "# List vs Array\n",
    "# List 기반 : 융통성 (여러 데이터 타입 담기 Container), 범용성\n",
    "# 숫자 기반 : numpy등 머신러닝 관련 --> Array "
   ]
  }
 ],
 "metadata": {
  "kernelspec": {
   "display_name": "Python 3",
   "language": "python",
   "name": "python3"
  },
  "language_info": {
   "codemirror_mode": {
    "name": "ipython",
    "version": 3
   },
   "file_extension": ".py",
   "mimetype": "text/x-python",
   "name": "python",
   "nbconvert_exporter": "python",
   "pygments_lexer": "ipython3",
   "version": "3.9.1"
  }
 },
 "nbformat": 4,
 "nbformat_minor": 5
}
