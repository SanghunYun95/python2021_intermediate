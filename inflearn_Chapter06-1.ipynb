{
 "cells": [
  {
   "cell_type": "code",
   "execution_count": 7,
   "id": "willing-integral",
   "metadata": {},
   "outputs": [
    {
     "name": "stdout",
     "output_type": "stream",
     "text": [
      "A\n",
      "B\n",
      "C\n",
      "D\n",
      "E\n",
      "F\n",
      "G\n",
      "H\n",
      "I\n",
      "J\n",
      "K\n",
      "L\n",
      "M\n",
      "N\n",
      "O\n",
      "P\n",
      "['__add__', '__class__', '__contains__', '__delattr__', '__dir__', '__doc__', '__eq__', '__format__', '__ge__', '__getattribute__', '__getitem__', '__getnewargs__', '__gt__', '__hash__', '__init__', '__init_subclass__', '__iter__', '__le__', '__len__', '__lt__', '__mod__', '__mul__', '__ne__', '__new__', '__reduce__', '__reduce_ex__', '__repr__', '__rmod__', '__rmul__', '__setattr__', '__sizeof__', '__str__', '__subclasshook__', 'capitalize', 'casefold', 'center', 'count', 'encode', 'endswith', 'expandtabs', 'find', 'format', 'format_map', 'index', 'isalnum', 'isalpha', 'isascii', 'isdecimal', 'isdigit', 'isidentifier', 'islower', 'isnumeric', 'isprintable', 'isspace', 'istitle', 'isupper', 'join', 'ljust', 'lower', 'lstrip', 'maketrans', 'partition', 'removeprefix', 'removesuffix', 'replace', 'rfind', 'rindex', 'rjust', 'rpartition', 'rsplit', 'rstrip', 'split', 'splitlines', 'startswith', 'strip', 'swapcase', 'title', 'translate', 'upper', 'zfill']\n",
      "True\n",
      "True\n"
     ]
    }
   ],
   "source": [
    "# 병행성 (Concurrency)\n",
    "# Generator, Iterator\n",
    "# 제네레이터는 이터레이터를 반환한다\n",
    "\n",
    "# 파이썬 반복 가능한 타입\n",
    "# collections, text, list, Dict, Set, Tuple, unpacking, *args...: iterable\n",
    "\n",
    "# 반복 가능한 이유? -> 내부적으로 iter 함수 호출\n",
    "t = 'ABCDEFGHIJKLMNOP'\n",
    "\n",
    "# for c in t:\n",
    "#     print(c)\n",
    "    \n",
    "\n",
    "# for문의 내부 매커니즘은 밑의 while과 동일한 구조로 되어 있다\n",
    "# while\n",
    "w = iter(t)\n",
    "#print(next(w))\n",
    "\n",
    "while True:\n",
    "    try:\n",
    "        print(next(w))\n",
    "    except StopIteration:\n",
    "        break\n",
    "        \n",
    "# 반복형 확인\n",
    "# 1\n",
    "print(dir(t))\n",
    "# 2\n",
    "print(hasattr(t, '__iter__'))\n",
    "# 3 \n",
    "from collections import abc # 추상클래스\n",
    "print(isinstance(t, abc.Iterable))"
   ]
  },
  {
   "cell_type": "code",
   "execution_count": 12,
   "id": "vulnerable-alaska",
   "metadata": {},
   "outputs": [
    {
     "name": "stdout",
     "output_type": "stream",
     "text": [
      "Do\n",
      "today\n",
      "what\n",
      "you\n",
      "could\n",
      "do\n",
      "tommorrow\n"
     ]
    }
   ],
   "source": [
    "# next 패턴\n",
    "class WordSplitter:\n",
    "    def __init__(self, text):\n",
    "        self._idx = 0\n",
    "        self._text = text.split(' ')\n",
    "    \n",
    "    def __next__(self):\n",
    "        #print('Called __next__')\n",
    "        try:\n",
    "            word = self._text[self._idx]\n",
    "        except IndexError:\n",
    "            raise StopIteration('Stopped Iteration.')\n",
    "        self._idx += 1\n",
    "        return word\n",
    "    \n",
    "    def __repr__(self):\n",
    "        return 'WordSpit(%s)' % (self._text)\n",
    "    \n",
    "wi = WordSplitter('Do today what you could do tommorrow')\n",
    "\n",
    "print(next(wi))\n",
    "print(next(wi))\n",
    "print(next(wi))\n",
    "print(next(wi))\n",
    "print(next(wi))\n",
    "print(next(wi))\n",
    "print(next(wi))\n",
    "#print(next(wi))\n"
   ]
  },
  {
   "cell_type": "code",
   "execution_count": 18,
   "id": "frozen-apartment",
   "metadata": {},
   "outputs": [
    {
     "name": "stdout",
     "output_type": "stream",
     "text": [
      "Do\n",
      "today\n",
      "what\n",
      "you\n",
      "could\n",
      "do\n",
      "tommorrow\n"
     ]
    }
   ],
   "source": [
    "# Generator 패턴\n",
    "# 1. 지능형 리스트, 딕셔너리, 집합 -> 데이터 양 증가 후 메모리 사용량 증가 -> 제네레이터 사용 권장\n",
    "# 2. 단위 실행 가능한 코루틴(Coroutine) 구현과 연동\n",
    "# 3. 작은 메모리 조각 사용\n",
    "\n",
    "\n",
    "class WordSplitGenerator:\n",
    "    # index값 저장할 필요 없음\n",
    "    def __init__(self, text):\n",
    "        self._text = text.split(' ')\n",
    "        \n",
    "    def __iter__(self):\n",
    "        for word in self._text:\n",
    "            yield word # 제너레이터   yield 위치 정보 저장\n",
    "        # return 필요없음\n",
    "        # 예외처리도 알아서 해줌\n",
    "            \n",
    "    def __repr__(self):\n",
    "        return 'WordSpitGenerator(%s)' % (self._text)\n",
    "    \n",
    "wg = WordSplitGenerator('Do today what you could do tommorrow')\n",
    "\n",
    "wt = iter(wg)\n",
    "print(next(wt))\n",
    "print(next(wt))\n",
    "print(next(wt))\n",
    "print(next(wt))\n",
    "print(next(wt))\n",
    "print(next(wt))\n",
    "print(next(wt))\n",
    "\n",
    "            "
   ]
  }
 ],
 "metadata": {
  "kernelspec": {
   "display_name": "Python 3",
   "language": "python",
   "name": "python3"
  },
  "language_info": {
   "codemirror_mode": {
    "name": "ipython",
    "version": 3
   },
   "file_extension": ".py",
   "mimetype": "text/x-python",
   "name": "python",
   "nbconvert_exporter": "python",
   "pygments_lexer": "ipython3",
   "version": "3.9.1"
  }
 },
 "nbformat": 4,
 "nbformat_minor": 5
}
