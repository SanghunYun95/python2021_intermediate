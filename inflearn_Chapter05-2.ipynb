{
 "cells": [
  {
   "cell_type": "code",
   "execution_count": 5,
   "id": "waiting-triple",
   "metadata": {},
   "outputs": [
    {
     "name": "stdout",
     "output_type": "stream",
     "text": [
      "10\n",
      "20\n",
      "\n",
      ">> 30\n",
      "10\n",
      "30\n",
      ">>> 40\n"
     ]
    }
   ],
   "source": [
    "# Closure\n",
    "\n",
    "# Python scope\n",
    "# 1\n",
    "b = 20\n",
    "def func_v1(a):\n",
    "    print(a)\n",
    "    print(b)\n",
    "func_v1(10)\n",
    "\n",
    "print()\n",
    "# 2\n",
    "# c = 30\n",
    "# def func_v2(a):\n",
    "#     print(a)\n",
    "#     print(c)\n",
    "#     c = 40   UnboundLocalError: local variable 'c' referenced before assignment\n",
    "#              같은 이름의 변수가 있는 경우 local을 먼저 찾는다    \n",
    "# func_v2(10)\n",
    "\n",
    "\n",
    "# 3\n",
    "c = 30\n",
    "def func_v3(a):\n",
    "    global c\n",
    "    print(a)\n",
    "    print(c)\n",
    "    c = 40  # c를  global 변수인 c로 인식한다\n",
    "   \n",
    "print('>>', c)\n",
    "func_v3(10)\n",
    "print('>>>', c)"
   ]
  },
  {
   "cell_type": "code",
   "execution_count": 8,
   "id": "rolled-transsexual",
   "metadata": {},
   "outputs": [
    {
     "name": "stdout",
     "output_type": "stream",
     "text": [
      "inner >> [10] / 1\n",
      "10.0\n",
      "inner >> [10, 30] / 2\n",
      "20.0\n",
      "inner >> [10, 30, 50] / 3\n",
      "30.0\n"
     ]
    }
   ],
   "source": [
    "# Closure\n",
    "# 서버 프로그래밍 -> 동시성(Concurrency)제어 -> 메모리 공간에 여러 자원이 접근 -> 교착상태 (Dead Lock)\n",
    "# 메모리를 공유하지 않고 메시지 전달로 처리하기 위한 -> Erlang\n",
    "# 클로저는 공유하되 변경되지 않는 (Immutable, Read Only) 적극적으로 사용 -> 함수형 프로그래밍\n",
    "# 클로저는 불변자료구조 및 atom, STM -> 멀티스레드(Coroutine) 프로그래밍에 강점\n",
    "\n",
    "# 클로저는 자유영역의 불변 상태를 기억한다\n",
    "\n",
    "# 값을 누적하는 클래스\n",
    "class Averager():\n",
    "    def __init__(self):\n",
    "        self._series = []\n",
    "    def __call__(self, v):\n",
    "        self._series.append(v)\n",
    "        print('inner >> {} / {}'.format(self._series, len(self._series)))\n",
    "        return sum(self._series) / len(self._series)\n",
    "    \n",
    "averager_cls = Averager()\n",
    "# __call__을 구현하여 클래스를 함수처럼 호출한다.\n",
    "print(averager_cls(10))\n",
    "print(averager_cls(30))\n",
    "print(averager_cls(50))"
   ]
  }
 ],
 "metadata": {
  "kernelspec": {
   "display_name": "Python 3",
   "language": "python",
   "name": "python3"
  },
  "language_info": {
   "codemirror_mode": {
    "name": "ipython",
    "version": 3
   },
   "file_extension": ".py",
   "mimetype": "text/x-python",
   "name": "python",
   "nbconvert_exporter": "python",
   "pygments_lexer": "ipython3",
   "version": "3.9.1"
  }
 },
 "nbformat": 4,
 "nbformat_minor": 5
}
