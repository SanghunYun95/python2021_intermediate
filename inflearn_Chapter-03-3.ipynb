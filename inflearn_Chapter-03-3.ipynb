{
 "cells": [
  {
   "cell_type": "code",
   "execution_count": 9,
   "id": "occupied-ancient",
   "metadata": {},
   "outputs": [
    {
     "name": "stdout",
     "output_type": "stream",
     "text": [
      "3.8078865529319543\n",
      "Point(x=1.0, y=5.0)\n",
      "Point(x=2.5, y=1.5)\n",
      "3.8078865529319543\n"
     ]
    }
   ],
   "source": [
    "# 일반 튜플\n",
    "d1 = (1.0, 5.0)\n",
    "d2 = (2.5, 1.5)\n",
    "\n",
    "# 두 점사이의 거리 구하기\n",
    "from math import sqrt\n",
    "leng1 = sqrt((d1[0] - d2[0]) ** 2 + (d1[1] - d2[1]) ** 2)\n",
    "print(leng1)\n",
    "\n",
    "# 네임드 튜플\n",
    "from collections import namedtuple\n",
    "\n",
    "# 네임드 퓨틀 선언\n",
    "Point = namedtuple('Point', 'x y')\n",
    "d3 = Point(1.0, 5.0)\n",
    "d4 = Point(2.5, 1.5)\n",
    "\n",
    "print(d3)\n",
    "print(d4)\n",
    "\n",
    "leng2 = sqrt((d3.x - d4.x) ** 2 + (d3.y - d4.y) ** 2)\n",
    "print(leng2)"
   ]
  },
  {
   "cell_type": "code",
   "execution_count": 17,
   "id": "frank-packaging",
   "metadata": {},
   "outputs": [
    {
     "name": "stdout",
     "output_type": "stream",
     "text": [
      "<class '__main__.Point'> <class '__main__.Point'> <class '__main__.Point'> <class '__main__.Point'>\n",
      "\n",
      "Point(x=10, y=35) Point(x=20, y=40) Point(x=20, y=40) Point(x=10, y=20, _2=30, _3=40)\n",
      "Point(x=75, y=55)\n",
      "-----------------------------------\n",
      "50\n",
      "50\n",
      "20 40\n"
     ]
    }
   ],
   "source": [
    "# 네임드 튜플 선언 방법\n",
    "# 1\n",
    "Point1 = namedtuple('Point', ['x', 'y'])\n",
    "# 2\n",
    "Point2 = namedtuple('Point', 'x, y')\n",
    "# 3\n",
    "Point3 = namedtuple('Point', 'x y')\n",
    "# 4                                         난수 key 생성\n",
    "Point4 = namedtuple('Point', 'x y x class', rename=True) # x처럼 중복된 키, \n",
    "                                                         # class는 예약어이기 때문에 rename을 사용하면 된다\n",
    "\n",
    "# 출력\n",
    "print(Point1, Point2, Point3, Point4)\n",
    "\n",
    "# 객체 생성\n",
    "p1 = Point1(x=10, y=35)\n",
    "p2 = Point2(20, 40)\n",
    "p3 = Point3(20, y=40)\n",
    "p4 = Point4(10, 20, 30, 40)\n",
    "\n",
    "print()\n",
    "print(p1, p2, p3, p4) # p4는 rename을 통해 key가 난수로 변경된다\n",
    "\n",
    "# Dict to Unpacking\n",
    "temp_dict = {'x': 75, 'y':55}\n",
    "p5 = Point3(**temp_dict) # unpacking해서 알아서 맵핑한다\n",
    "print(p5)\n",
    "\n",
    "print('-'*35)\n",
    "\n",
    "print(p1[0] + p2[1])\n",
    "print(p1.x + p2.y) # 이렇게 키로 접근하기 위해 Named Tuple을 사용한다\n",
    "# Unpacking\n",
    "x, y = p3\n",
    "print(x, y)\n"
   ]
  },
  {
   "cell_type": "code",
   "execution_count": 24,
   "id": "existing-embassy",
   "metadata": {},
   "outputs": [
    {
     "name": "stdout",
     "output_type": "stream",
     "text": [
      "Point(x=52, y=38)\n",
      "('x', 'y') ('x', 'y') ('x', 'y')\n",
      "{'x': 10, 'y': 35}\n",
      "{'x': 75, 'y': 55}\n"
     ]
    }
   ],
   "source": [
    "# 네임드 튜플 메소드\n",
    "\n",
    "# _make() : 새로운 객체 생성 list -> name tuple\n",
    "temp = [52, 38]    \n",
    "p6 = Point1._make(temp)   \n",
    "print(p6)\n",
    "\n",
    "# _fields : 필드 네임 확인\n",
    "print(p1._fields, p2._fields, p3._fields)\n",
    "\n",
    "# _asdict() : Orderd Dictionary 반환 (원래 Dictionary는 순서가 없다)\n",
    "print(p1._asdict())\n",
    "print(p5._asdict())"
   ]
  },
  {
   "cell_type": "code",
   "execution_count": 26,
   "id": "utility-stand",
   "metadata": {},
   "outputs": [
    {
     "name": "stdout",
     "output_type": "stream",
     "text": [
      "80\n",
      "[Classes(rank='A', number='1'), Classes(rank='A', number='2'), Classes(rank='A', number='3'), Classes(rank='A', number='4'), Classes(rank='A', number='5'), Classes(rank='A', number='6'), Classes(rank='A', number='7'), Classes(rank='A', number='8'), Classes(rank='A', number='9'), Classes(rank='A', number='10'), Classes(rank='A', number='11'), Classes(rank='A', number='12'), Classes(rank='A', number='13'), Classes(rank='A', number='14'), Classes(rank='A', number='15'), Classes(rank='A', number='16'), Classes(rank='A', number='17'), Classes(rank='A', number='18'), Classes(rank='A', number='19'), Classes(rank='A', number='20'), Classes(rank='B', number='1'), Classes(rank='B', number='2'), Classes(rank='B', number='3'), Classes(rank='B', number='4'), Classes(rank='B', number='5'), Classes(rank='B', number='6'), Classes(rank='B', number='7'), Classes(rank='B', number='8'), Classes(rank='B', number='9'), Classes(rank='B', number='10'), Classes(rank='B', number='11'), Classes(rank='B', number='12'), Classes(rank='B', number='13'), Classes(rank='B', number='14'), Classes(rank='B', number='15'), Classes(rank='B', number='16'), Classes(rank='B', number='17'), Classes(rank='B', number='18'), Classes(rank='B', number='19'), Classes(rank='B', number='20'), Classes(rank='C', number='1'), Classes(rank='C', number='2'), Classes(rank='C', number='3'), Classes(rank='C', number='4'), Classes(rank='C', number='5'), Classes(rank='C', number='6'), Classes(rank='C', number='7'), Classes(rank='C', number='8'), Classes(rank='C', number='9'), Classes(rank='C', number='10'), Classes(rank='C', number='11'), Classes(rank='C', number='12'), Classes(rank='C', number='13'), Classes(rank='C', number='14'), Classes(rank='C', number='15'), Classes(rank='C', number='16'), Classes(rank='C', number='17'), Classes(rank='C', number='18'), Classes(rank='C', number='19'), Classes(rank='C', number='20'), Classes(rank='D', number='1'), Classes(rank='D', number='2'), Classes(rank='D', number='3'), Classes(rank='D', number='4'), Classes(rank='D', number='5'), Classes(rank='D', number='6'), Classes(rank='D', number='7'), Classes(rank='D', number='8'), Classes(rank='D', number='9'), Classes(rank='D', number='10'), Classes(rank='D', number='11'), Classes(rank='D', number='12'), Classes(rank='D', number='13'), Classes(rank='D', number='14'), Classes(rank='D', number='15'), Classes(rank='D', number='16'), Classes(rank='D', number='17'), Classes(rank='D', number='18'), Classes(rank='D', number='19'), Classes(rank='D', number='20')]\n"
     ]
    }
   ],
   "source": [
    "# 실 사용 실습\n",
    "# 반 20명, 4개의 반 (A,B,C,D)\n",
    "Classes = namedtuple('Classes', ['rank', 'number'])\n",
    "\n",
    "# 그룹 리스트 선언\n",
    "numbers = [str(n) for n in range(1, 21)]\n",
    "ranks = 'A B C D'.split()\n",
    "\n",
    "# List Comprehension\n",
    "students = [Classes(rank, number) for rank in ranks for number in numbers]\n",
    "\n",
    "print(len(students))\n",
    "print(students)"
   ]
  },
  {
   "cell_type": "code",
   "execution_count": 31,
   "id": "contemporary-karaoke",
   "metadata": {},
   "outputs": [
    {
     "name": "stdout",
     "output_type": "stream",
     "text": [
      "Classes(rank='A', number='1')\n",
      "Classes(rank='A', number='2')\n",
      "Classes(rank='A', number='3')\n",
      "Classes(rank='A', number='4')\n",
      "Classes(rank='A', number='5')\n",
      "Classes(rank='A', number='6')\n",
      "Classes(rank='A', number='7')\n",
      "Classes(rank='A', number='8')\n",
      "Classes(rank='A', number='9')\n",
      "Classes(rank='A', number='10')\n",
      "Classes(rank='A', number='11')\n",
      "Classes(rank='A', number='12')\n",
      "Classes(rank='A', number='13')\n",
      "Classes(rank='A', number='14')\n",
      "Classes(rank='A', number='15')\n",
      "Classes(rank='A', number='16')\n",
      "Classes(rank='A', number='17')\n",
      "Classes(rank='A', number='18')\n",
      "Classes(rank='A', number='19')\n",
      "Classes(rank='A', number='20')\n",
      "Classes(rank='B', number='1')\n",
      "Classes(rank='B', number='2')\n",
      "Classes(rank='B', number='3')\n",
      "Classes(rank='B', number='4')\n",
      "Classes(rank='B', number='5')\n",
      "Classes(rank='B', number='6')\n",
      "Classes(rank='B', number='7')\n",
      "Classes(rank='B', number='8')\n",
      "Classes(rank='B', number='9')\n",
      "Classes(rank='B', number='10')\n",
      "Classes(rank='B', number='11')\n",
      "Classes(rank='B', number='12')\n",
      "Classes(rank='B', number='13')\n",
      "Classes(rank='B', number='14')\n",
      "Classes(rank='B', number='15')\n",
      "Classes(rank='B', number='16')\n",
      "Classes(rank='B', number='17')\n",
      "Classes(rank='B', number='18')\n",
      "Classes(rank='B', number='19')\n",
      "Classes(rank='B', number='20')\n",
      "Classes(rank='C', number='1')\n",
      "Classes(rank='C', number='2')\n",
      "Classes(rank='C', number='3')\n",
      "Classes(rank='C', number='4')\n",
      "Classes(rank='C', number='5')\n",
      "Classes(rank='C', number='6')\n",
      "Classes(rank='C', number='7')\n",
      "Classes(rank='C', number='8')\n",
      "Classes(rank='C', number='9')\n",
      "Classes(rank='C', number='10')\n",
      "Classes(rank='C', number='11')\n",
      "Classes(rank='C', number='12')\n",
      "Classes(rank='C', number='13')\n",
      "Classes(rank='C', number='14')\n",
      "Classes(rank='C', number='15')\n",
      "Classes(rank='C', number='16')\n",
      "Classes(rank='C', number='17')\n",
      "Classes(rank='C', number='18')\n",
      "Classes(rank='C', number='19')\n",
      "Classes(rank='C', number='20')\n",
      "Classes(rank='D', number='1')\n",
      "Classes(rank='D', number='2')\n",
      "Classes(rank='D', number='3')\n",
      "Classes(rank='D', number='4')\n",
      "Classes(rank='D', number='5')\n",
      "Classes(rank='D', number='6')\n",
      "Classes(rank='D', number='7')\n",
      "Classes(rank='D', number='8')\n",
      "Classes(rank='D', number='9')\n",
      "Classes(rank='D', number='10')\n",
      "Classes(rank='D', number='11')\n",
      "Classes(rank='D', number='12')\n",
      "Classes(rank='D', number='13')\n",
      "Classes(rank='D', number='14')\n",
      "Classes(rank='D', number='15')\n",
      "Classes(rank='D', number='16')\n",
      "Classes(rank='D', number='17')\n",
      "Classes(rank='D', number='18')\n",
      "Classes(rank='D', number='19')\n",
      "Classes(rank='D', number='20')\n"
     ]
    }
   ],
   "source": [
    "# 추천\n",
    "students2 = [Classes(rank, number)\n",
    "            for rank in 'A B C D'.split()\n",
    "                for number in [str(n)\n",
    "                    for n in range(1, 21)]]\n",
    "\n",
    "for s in students2:\n",
    "    print(s)"
   ]
  }
 ],
 "metadata": {
  "kernelspec": {
   "display_name": "Python 3",
   "language": "python",
   "name": "python3"
  },
  "language_info": {
   "codemirror_mode": {
    "name": "ipython",
    "version": 3
   },
   "file_extension": ".py",
   "mimetype": "text/x-python",
   "name": "python",
   "nbconvert_exporter": "python",
   "pygments_lexer": "ipython3",
   "version": "3.9.1"
  }
 },
 "nbformat": 4,
 "nbformat_minor": 5
}
