{
 "cells": [
  {
   "cell_type": "code",
   "execution_count": null,
   "id": "spatial-barbados",
   "metadata": {},
   "outputs": [],
   "source": [
    "# Futures 동시성\n",
    "# 비동기 작업 실행\n",
    "# 지연시간(Block) CPU 및 리소스 낭비 방지 -> (File) Network I/O 관련 작업 -> 동시성 활용 권장\n",
    "# 비동기 작업과 적합하 프로그램일 경우 압도적으로 성능 향상\n",
    "\n",
    "# futures: 비동기 실행을 위한 API를 고수준으로 작성 -> 사용하기 쉽도록 개선\n",
    "# concurrent.Futures\n",
    "# 1. 멀티스레딩/멀티프로세싱 API 통일 -> 매우 사용하기 쉬움\n",
    "# 2. 실행중인 작업 취소, 완료 여부 체크, 타임아웃 옵션, 콜백추가, 동기화 코드 매우 쉽게 작성 -> Promise\n",
    "\n",
    "# 2가지 패턴 실습\n",
    "# concurrent.futures 사용법1\n",
    "# concurrent.futures 사용법2\n",
    "\n",
    "# Global Interpreter Lock\n",
    "# GIL: 두개 이상의 쓰레드가 동시에 실행 될 때, 하나의 자원을 엑세스 하는 경우 -> 문제점을 방지하기 위해\n",
    "#      GIL 실행, 리소스 전체에 락이 걸린다. -> Context Switch(문맥 교환)\n",
    "\n",
    "# GIL 우회: 멀티프로세싱 이용, Cpython"
   ]
  }
 ],
 "metadata": {
  "kernelspec": {
   "display_name": "Python 3",
   "language": "python",
   "name": "python3"
  },
  "language_info": {
   "codemirror_mode": {
    "name": "ipython",
    "version": 3
   },
   "file_extension": ".py",
   "mimetype": "text/x-python",
   "name": "python",
   "nbconvert_exporter": "python",
   "pygments_lexer": "ipython3",
   "version": "3.9.1"
  }
 },
 "nbformat": 4,
 "nbformat_minor": 5
}
